{
 "cells": [
  {
   "cell_type": "code",
   "execution_count": 15,
   "metadata": {},
   "outputs": [],
   "source": [
    "#\n",
    "# NCFApp\n",
    "# New Customers Forecast Application\n",
    "# Programma creato per il forecast dei clienti\n",
    "# \n",
    "\n",
    "import numpy             as np    # libreria per la gestione dei numeri\n",
    "import pandas            as pd    # libreria per la gestione del file csv\n",
    "import seaborn           as sb    # libreria per la costruzione di grafici\n",
    "import matplotlib.pyplot as plt   # libreria ausiliaria per la costruzione di grafici\n",
    "import Tkinter           as tk    # libreria per l'interfaccia grafica\n",
    "import PIL                        # libreria per la gestione delle immagini\n",
    "from statsmodels.tsa.stattools    import acf, pacf, adfuller, arma_order_select_ic\n",
    "from statsmodels.tsa.seasonal     import seasonal_decompose\n",
    "from statsmodels.tsa.arima_model  import ARIMA, ARIMAResults\n",
    "from statsmodels.stats.diagnostic import acorr_ljungbox\n",
    "\n",
    "\n",
    "# Funzione che ritorna l'ultimo consuntivo caricato\n",
    "def Lastcons():\n",
    "    df_mesi = df_sstor.index\n",
    "    return max(df_mesi)\n",
    "\n",
    "# Funzione che prepara un grafico e lo salva in una figura\n",
    "def SimplePlot(SeriePandas=None,LabelofSerie=None):\n",
    "    plt.plot(SeriePandas,label=LabelofSerie)\n",
    "    plt.legend()\n",
    "    return plt.figure()\n",
    "\n",
    "# Funzione che scrive una stringa nel file di log\n",
    "def Wlog(stringa=None) :\n",
    "    file_log.writelines([stringa,'\\n'])\n",
    "    \n",
    "# apre il file di log\n",
    "file_log = open('NCFAlog.txt', mode='w')\n",
    "Wlog('Aperta sessione di programma')\n",
    "\n",
    "# Carica il dataframe dei dati dal file csv e converte la colonna 'MESE' da stringa a data\n",
    "df_sstor = pd.read_csv('NCFAdati.csv',sep=',',index_col=0, parse_dates=True, infer_datetime_format=True)\n",
    "Wlog('Caricato archivio consuntivi')\n",
    "Wlog('Ultimo consuntivo rilevato :'+str(Lastcons()))\n",
    "\n",
    "alpha  = 0.05\n",
    "Wlog('Fissato valore di significatività statistica - alpha = 0,05')\n",
    "\n",
    "mesi_forecast = 24\n",
    "Wlog('Fissato periodo proiezione forecast : '+str(mesi_forecast)+' mesi dopo ultimo consuntivo')\n",
    "index_forecast = pd.date_range(Lastcons(), periods=1+mesi_forecast, freq='M')\n",
    "index_forecast = index_forecast[1:]\n",
    "\n",
    "#df_sstor['MESE']=pd.to_datetime(df_sstor['MESE'],format='%Y/%m')"
   ]
  },
  {
   "cell_type": "code",
   "execution_count": 17,
   "metadata": {},
   "outputs": [],
   "source": [
    "# Funzione che data una serie ne calcola il forecast\n",
    "# l'argomento è la serie storica originale, \n",
    "def Forecast(TMS_orig = None, graphic = False):\n",
    "    \n",
    "    def test_stationarity(tms = None) :\n",
    "        # Dickey - Fuller test\n",
    "        # H0 : la serie non è stazionaria\n",
    "        # ritorna il p-value\n",
    "        dftest = adfuller(tms, autolag='AIC')\n",
    "        print dftest\n",
    "        return dftest[1]\n",
    "        #print dftest\n",
    "        #print 'Results of Dickey-Fuller Test:'\n",
    "        #dfoutput = pd.Series(dftest[0:4], index=['Test Statistic','p-value','#Lags Used','Number of Observations Used'])\n",
    "        #for key,value in dftest[4].items():\n",
    "        #dfoutput['Critical Value (%s)'%key] = value\n",
    "        #print dfoutput\n",
    "\n",
    "    def test_whitenoise(tms = None) :   \n",
    "        # Test Ljung-box sui residui per verifica White noise\n",
    "        # (H0 : i residui sono WN)\n",
    "        testWN = acorr_ljungbox(tms,lags=12)\n",
    "        return testWN\n",
    "    \n",
    "    Wlog('Iniziata procedura di FORECAST per la serie temporale '+TMS_orig.name)\n",
    "    Wlog('Numero di osservazioni presenti      : '+str(len(TMS_orig)))\n",
    "    \n",
    "    #Elimina eventuali spazi vuoti\n",
    "    TMS_orig = TMS_orig.dropna()\n",
    "    Wlog('Numero di osservazioni post-cleaning : '+str(len(TMS_orig)))\n",
    "    \n",
    "    #La serie viene tagliata ai 4 anni più recenti e ...\n",
    "    # + 12 mesi per la differenziazione stagionale e ...\n",
    "    # + 1 mese per la differenziazione de-trend\n",
    "    if len(TMS_orig)>61 :\n",
    "        TMS_orig = TMS_orig[-61:]\n",
    "    elif len(TMS_orig)>49 :\n",
    "        TMS_orig = TMS_orig[-49:]\n",
    "    elif len(TMS_orig)>37 :\n",
    "        TMS_orig = TMS_orig[-37:]\n",
    "    #else :\n",
    "    #    raise 0\n",
    "    Wlog('Numero di osservazioni che verranno prese in considerazione (più recenti) : '+str(len(TMS_orig)))\n",
    "    \n",
    "    #Calcola ed espone media mobile e deviazione standard su 12 periodi\n",
    "    TMS_rolmean = TMS_orig.rolling(window=12,center=False).mean()\n",
    "    TMS_rolstd  = TMS_orig.rolling(window=12,center=False).std()\n",
    "        \n",
    "    plt.plot(TMS_orig, label='Original Data')\n",
    "    plt.plot(TMS_rolmean, label='Rolling Mean')\n",
    "    plt.plot(TMS_rolstd, label='Rolling Standard Dev.')\n",
    "    plt.title('Original series, Rolling Mean and Rolling StDev')\n",
    "    plt.legend()\n",
    "    start_graph = plt.figure()\n",
    "    if graphic : plt.show()\n",
    "    \n",
    "    # differenziazione per la stagionalita'\n",
    "    TMS_diff_seas = TMS_orig - TMS_orig.shift(12) #effetto stagionalita' eliminato\n",
    "    TMS_effetto_trend = TMS_diff_seas / 12        #effetto trend mensile\n",
    "    #trend mensile medio sull'ultimo anno\n",
    "    effetto_trend = np.mean(TMS_effetto_trend[-12:].values)\n",
    "    \n",
    "    Wlog('Ricalcolata serie temporale depurata degli effetti stagionali')\n",
    "    Wlog(\"Ricalcolata serie temporale depurata dell'effetto trend\")\n",
    "    Wlog('Effetto trend mensile (media degli ultimi 12 mesi)'+str(effetto_trend))\n",
    "    \n",
    "    decomposition = seasonal_decompose(TMS_orig,two_sided=False)\n",
    "    TMS_trend     = decomposition.trend.dropna()\n",
    "    TMS_seas      = decomposition.seasonal.dropna()\n",
    "    TMS_resid     = decomposition.resid.dropna()\n",
    "\n",
    "    plt.subplot(411)\n",
    "    plt.plot(TMS_orig, label='Original')\n",
    "    plt.legend(loc='best')\n",
    "    plt.subplot(412)\n",
    "    plt.plot(TMS_trend, label='Trend')\n",
    "    plt.legend(loc='best')\n",
    "    plt.subplot(413)\n",
    "    plt.plot(TMS_seas,label='Seasonality')\n",
    "    plt.legend(loc='best')\n",
    "    plt.subplot(414)\n",
    "    plt.plot(TMS_resid, label='Residuals')\n",
    "    plt.legend(loc='best')\n",
    "    plt.tight_layout()\n",
    "    decompose_graph = plt.figure()\n",
    "    if graphic : plt.show()\n",
    "    \n",
    "    # Ricerca il numero di differenziazioni sino a giungere alla stazionarietà\n",
    "    max_diff  = 5\n",
    "    TMS_for_test = TMS_resid\n",
    "    rank_diff = 0\n",
    "    \n",
    "    Wlog('Test per la verifica della stazionarietà sulla serie destagionalizzata e detrendizzata')\n",
    "    \n",
    "    while (test_stationarity(TMS_for_test) > alpha) and (rank_diff < max_diff) :\n",
    "        rank_diff += 1\n",
    "        TMS_for_test = TMS_for_test - TMS_for_test.shift()\n",
    "        TMS_for_test = TMS_for_test.dropna()\n",
    "    \n",
    "    Wlog('Numero di differenziazioni da attuare per rendere la serie stazionaria : '+str(rank_diff))\n",
    "    Wlog('Se uguale a zero   : valore ammissibile ma piuttosto raro')\n",
    "    Wlog('Se uguale a uno    : valore standard e diffuso')\n",
    "    Wlog('Se uguale a due    : possono esserci trend anomali (almeno quadratici)')\n",
    "    Wlog('Se maggiore di due : valori anomali - serie temporale imprevedibile, anche se converge rischio di inferenza distorta')\n",
    "    \n",
    "    # se la serie è già stazionaria prova a vedere se si tratta di un white noise\n",
    "    if rank_diff == 0 :\n",
    "        if test_whitenoise(TMS_resid) > alpha : \n",
    "            whitenoise = True\n",
    "        else :\n",
    "            whitenoise = False\n",
    "    else :\n",
    "        whitenoise = False\n",
    "        \n",
    "    if whitenoise :\n",
    "        Wlog('Serie temporale uguale al white noise - nessuna ulteriore informazione catturabile')\n",
    "        TMS_predict = pd.Series(0,index=df_sstor.index)\n",
    "        TMS_forecast = pd.Series(0,index=index_forecast)\n",
    "    else :\n",
    "        # rappresentazione di ACF e PACF\n",
    "        lag_acf = acf(TMS_for_test, nlags=15)\n",
    "        lag_pacf = pacf(TMS_for_test, nlags=15, method='ols')\n",
    "        #Plot ACF: \n",
    "        plt.subplot(121) \n",
    "        plt.plot(lag_acf)\n",
    "        plt.axhline(y=0,linestyle='--',color='gray')\n",
    "        plt.axhline(y=-1.96/np.sqrt(len(TMS_for_test)),linestyle='--',color='gray')\n",
    "        plt.axhline(y=1.96/np.sqrt(len(TMS_for_test)),linestyle='--',color='gray')\n",
    "        plt.title('Autocorrelation Function')\n",
    "        #Plot PACF:\n",
    "        plt.subplot(122)\n",
    "        plt.plot(lag_pacf)\n",
    "        plt.axhline(y=0,linestyle='--',color='gray')\n",
    "        plt.axhline(y=-1.96/np.sqrt(len(TMS_for_test)),linestyle='--',color='gray')\n",
    "        plt.axhline(y=1.96/np.sqrt(len(TMS_for_test)),linestyle='--',color='gray')\n",
    "        plt.title('Partial Autocorrelation Function')\n",
    "        plt.tight_layout()\n",
    "        acfpacf_graph = plt.figure()\n",
    "        if graphic : plt.show()\n",
    "    \n",
    "        autoregressive      = TMS_resid\n",
    "        autoregressive_diff = TMS_for_test\n",
    "    \n",
    "        criteria_ic = arma_order_select_ic(autoregressive_diff)\n",
    "        rank_AR = criteria_ic.bic_min_order[0]\n",
    "        rank_MA = criteria_ic.bic_min_order[1]\n",
    "        Wlog('Modello autoregressivo stimato : ARIMA('+str(rank_AR)+','+str(rank_diff)+','+str(rank_MA)+')')\n",
    "    \n",
    "        results_AR = model.fit(disp=-1)\n",
    "    \n",
    "        TMS_predict = results_AR.fittedvalues\n",
    " \n",
    "        #print results_AR.summary()\n",
    "        #plt.plot(autoregressive_diff)\n",
    "        #plt.plot(TMS_predict, color='red')\n",
    "        #plt.title('RSS: %.4f'% sum((TMS_predict.dropna()-autoregressive_diff)**2))\n",
    "        #plt.show()\n",
    "    \n",
    "        forecast = results_AR.forecast(steps=mesi_forecast)\n",
    "        #print forecast\n",
    "        TMS_forecast    = pd.Series(forecast[0],index=index_forecast)\n",
    "        forecast_stderr = pd.Series(forecast[1],index=index_forecast)\n",
    "   \n",
    "    # FORECAST\n",
    "\n",
    "    new_TMS_predict = TMS_predict + TMS_trend + TMS_seas\n",
    "\n",
    "    new_TMS_trend = pd.Series(effetto_trend,index=index_forecast)\n",
    "    new_TMS_trend[0] = new_TMS_trend[0] + TMS_trend[-1]\n",
    "    new_TMS_trend = new_TMS_trend.cumsum()\n",
    "    \n",
    "    mask_seas = TMS_seas[-12:]\n",
    "    new_TMS_seas = pd.Series(0,index=index_forecast)\n",
    "    index_base = 0\n",
    "    ranges = range(0,len(index_forecast))\n",
    "    for index_base in ranges :\n",
    "        index_mask = index_base % 12\n",
    "        new_TMS_seas[index_base] = mask_seas[index_mask]\n",
    "    \n",
    "    # Serie di forecast finale\n",
    "    \n",
    "    new_TMS_forecast = TMS_forecast + new_TMS_trend + new_TMS_seas\n",
    "    \n",
    "    plt.plot(TMS_orig,        color='blue', label='Valori osservati')\n",
    "    plt.plot(new_TMS_predict, color='red',  label='Valori predetti')\n",
    "    plt.plot(new_TMS_forecast,color='green',label='Valori forecast')\n",
    "    plt.legend(loc='best')\n",
    "    end_graph = plt.figure()\n",
    "    if graphic : plt.show()\n",
    "    \n",
    "    \n",
    "    TMS_orig.name ='Original'\n",
    "    TMS_trend.name='Trend'\n",
    "    TMS_seas.name ='Seasonality'\n",
    "    TMS_resid.name='Residuals'\n",
    "    #print pd.concat([TMS_orig,TMS_trend,TMS_seas,TMS_resid],axis=1)\n",
    "       #df_fore = pd.DataFrame.from_items([('value',TMS_forecast),('std error',forecast_stderr)])\n",
    "    #print df_fore\n",
    "\n",
    "    return start_graph, decompose_graph, end_graph"
   ]
  },
  {
   "cell_type": "code",
   "execution_count": 18,
   "metadata": {
    "scrolled": true
   },
   "outputs": [
    {
     "data": {
      "image/png": "[encoded data removed]",
      "text/plain": [
       "<matplotlib.figure.Figure at 0x7fb883851f90>"
      ]
     },
     "metadata": {},
     "output_type": "display_data"
    },
    {
     "data": {
      "text/plain": [
       "<matplotlib.figure.Figure at 0x7fb8834e2050>"
      ]
     },
     "metadata": {},
     "output_type": "display_data"
    },
    {
     "data": {
      "image/png": "[encoded data removed]",
      "text/plain": [
       "<matplotlib.figure.Figure at 0x7fb883531890>"
      ]
     },
     "metadata": {},
     "output_type": "display_data"
    },
    {
     "data": {
      "text/plain": [
       "<matplotlib.figure.Figure at 0x7fb8bc633950>"
      ]
     },
     "metadata": {},
     "output_type": "display_data"
    },
    {
     "name": "stdout",
     "output_type": "stream",
     "text": [
      "(-1.5248788450591679, 0.5211702052948286, 4, 44, {'5%': -2.9298856611570252, '1%': -3.5885733964124715, '10%': -2.6031845661157025}, 426.74938014885345)\n",
      "(-6.9179808863459362, 1.1660882557723036e-09, 2, 45, {'5%': -2.9282991495198907, '1%': -3.5848288532235939, '10%': -2.6023438271604937}, 431.68176076049366)\n"
     ]
    },
    {
     "data": {
      "image/png": "[encoded data removed]",
      "text/plain": [
       "<matplotlib.figure.Figure at 0x7fb883390f50>"
      ]
     },
     "metadata": {},
     "output_type": "display_data"
    },
    {
     "data": {
      "text/plain": [
       "<matplotlib.figure.Figure at 0x7fb883505f50>"
      ]
     },
     "metadata": {},
     "output_type": "display_data"
    },
    {
     "name": "stderr",
     "output_type": "stream",
     "text": [
      "/home/kaidan/anaconda2/lib/python2.7/site-packages/statsmodels/base/model.py:496: ConvergenceWarning: Maximum Likelihood optimization failed to converge. Check mle_retvals\n",
      "  \"Check mle_retvals\", ConvergenceWarning)\n",
      "/home/kaidan/anaconda2/lib/python2.7/site-packages/statsmodels/tsa/tsatools.py:610: RuntimeWarning: invalid value encountered in double_scalars\n",
      "  (1-a**2)\n",
      "/home/kaidan/anaconda2/lib/python2.7/site-packages/statsmodels/tsa/tsatools.py:612: RuntimeWarning: divide by zero encountered in divide\n",
      "  invarcoefs = -np.log((1-params)/(1+params))\n",
      "/home/kaidan/anaconda2/lib/python2.7/site-packages/statsmodels/tsa/tsatools.py:652: RuntimeWarning: invalid value encountered in double_scalars\n",
      "  tmp[kiter] = (macoefs[kiter]-b *macoefs[j-kiter-1])/(1-b**2)\n",
      "/home/kaidan/anaconda2/lib/python2.7/site-packages/statsmodels/tsa/tsatools.py:654: RuntimeWarning: divide by zero encountered in log\n",
      "  invmacoefs = -np.log((1-macoefs)/(1+macoefs))\n",
      "/home/kaidan/anaconda2/lib/python2.7/site-packages/statsmodels/tsa/tsatools.py:585: RuntimeWarning: invalid value encountered in divide\n",
      "  (1+np.exp(-params))).copy()\n",
      "/home/kaidan/anaconda2/lib/python2.7/site-packages/statsmodels/tsa/tsatools.py:587: RuntimeWarning: invalid value encountered in divide\n",
      "  (1+np.exp(-params))).copy()\n"
     ]
    },
    {
     "ename": "NameError",
     "evalue": "global name 'model' is not defined",
     "output_type": "error",
     "traceback": [
      "\u001b[0;31m---------------------------------------------------------------------------\u001b[0m",
      "\u001b[0;31mNameError\u001b[0m                                 Traceback (most recent call last)",
      "\u001b[0;32m<ipython-input-18-ff8c2e1353a0>\u001b[0m in \u001b[0;36m<module>\u001b[0;34m()\u001b[0m\n\u001b[1;32m      1\u001b[0m \u001b[0mTimeSerie\u001b[0m \u001b[0;34m=\u001b[0m \u001b[0mpd\u001b[0m\u001b[0;34m.\u001b[0m\u001b[0mSeries\u001b[0m\u001b[0;34m(\u001b[0m\u001b[0mdf_sstor\u001b[0m\u001b[0;34m[\u001b[0m\u001b[0;34m'FL_IMP'\u001b[0m\u001b[0;34m]\u001b[0m\u001b[0;34m)\u001b[0m\u001b[0;34m\u001b[0m\u001b[0m\n\u001b[0;32m----> 2\u001b[0;31m \u001b[0ma\u001b[0m \u001b[0;34m=\u001b[0m \u001b[0mForecast\u001b[0m\u001b[0;34m(\u001b[0m\u001b[0mTimeSerie\u001b[0m\u001b[0;34m,\u001b[0m \u001b[0mgraphic\u001b[0m\u001b[0;34m=\u001b[0m\u001b[0mTrue\u001b[0m\u001b[0;34m)\u001b[0m\u001b[0;34m\u001b[0m\u001b[0m\n\u001b[0m",
      "\u001b[0;32m<ipython-input-17-d780d449ce21>\u001b[0m in \u001b[0;36mForecast\u001b[0;34m(TMS_orig, graphic)\u001b[0m\n\u001b[1;32m    147\u001b[0m         \u001b[0mWlog\u001b[0m\u001b[0;34m(\u001b[0m\u001b[0;34m'Modello autoregressivo stimato : ARIMA('\u001b[0m\u001b[0;34m+\u001b[0m\u001b[0mstr\u001b[0m\u001b[0;34m(\u001b[0m\u001b[0mrank_AR\u001b[0m\u001b[0;34m)\u001b[0m\u001b[0;34m+\u001b[0m\u001b[0;34m','\u001b[0m\u001b[0;34m+\u001b[0m\u001b[0mstr\u001b[0m\u001b[0;34m(\u001b[0m\u001b[0mrank_diff\u001b[0m\u001b[0;34m)\u001b[0m\u001b[0;34m+\u001b[0m\u001b[0;34m','\u001b[0m\u001b[0;34m+\u001b[0m\u001b[0mstr\u001b[0m\u001b[0;34m(\u001b[0m\u001b[0mrank_MA\u001b[0m\u001b[0;34m)\u001b[0m\u001b[0;34m+\u001b[0m\u001b[0;34m')'\u001b[0m\u001b[0;34m)\u001b[0m\u001b[0;34m\u001b[0m\u001b[0m\n\u001b[1;32m    148\u001b[0m \u001b[0;34m\u001b[0m\u001b[0m\n\u001b[0;32m--> 149\u001b[0;31m         \u001b[0mresults_AR\u001b[0m \u001b[0;34m=\u001b[0m \u001b[0mmodel\u001b[0m\u001b[0;34m.\u001b[0m\u001b[0mfit\u001b[0m\u001b[0;34m(\u001b[0m\u001b[0mdisp\u001b[0m\u001b[0;34m=\u001b[0m\u001b[0;34m-\u001b[0m\u001b[0;36m1\u001b[0m\u001b[0;34m)\u001b[0m\u001b[0;34m\u001b[0m\u001b[0m\n\u001b[0m\u001b[1;32m    150\u001b[0m \u001b[0;34m\u001b[0m\u001b[0m\n\u001b[1;32m    151\u001b[0m         \u001b[0mTMS_predict\u001b[0m \u001b[0;34m=\u001b[0m \u001b[0mresults_AR\u001b[0m\u001b[0;34m.\u001b[0m\u001b[0mfittedvalues\u001b[0m\u001b[0;34m\u001b[0m\u001b[0m\n",
      "\u001b[0;31mNameError\u001b[0m: global name 'model' is not defined"
     ]
    }
   ],
   "source": [
    "TimeSerie = pd.Series(df_sstor['FL_IMP'])\n",
    "a = Forecast(TimeSerie, graphic=True)\n"
   ]
  },
  {
   "cell_type": "code",
   "execution_count": null,
   "metadata": {
    "collapsed": true
   },
   "outputs": [],
   "source": [
    "plt.figure = a[1]\n",
    "plt.figure.show()"
   ]
  },
  {
   "cell_type": "code",
   "execution_count": null,
   "metadata": {
    "collapsed": true
   },
   "outputs": [],
   "source": []
  },
  {
   "cell_type": "code",
   "execution_count": null,
   "metadata": {
    "collapsed": true
   },
   "outputs": [],
   "source": [
    "class Application(tk.Frame):\n",
    "    def __init__(self, master=None):\n",
    "        tk.Frame.__init__(self, master)\n",
    "        self.grid()\n",
    "        self.createWidgets()\n",
    "\n",
    "    def createWidgets(self):\n",
    "        self.imglogo = PIL.Image.open('Logo.jpg')\n",
    "        self.imgA = self.imglogo.resize(size=(600,150))\n",
    "        self.imgB = PIL.ImageTk.PhotoImage(self.imgA)\n",
    "        self.canvas1 = tk.Canvas(self,width=600,height=150)\n",
    "        self.canvas1.create_image(300,75,image=self.imgB)\n",
    "        self.canvas1.grid()\n",
    "        \n",
    "        self.label = tk.Label(text = 'Last consuntive '+Lastcons())\n",
    "        self.label.grid()\n",
    "        \n",
    "        self.quitButton = tk.Button(self, text='Quit', background='darkred', command=self.quit)\n",
    "        self.quitButton.grid()\n",
    "        \n",
    "    def quit(self):\n",
    "        self.destroy()\n",
    "        return \n",
    "\n",
    "app = Application()\n",
    "app.master.title('New Customers Forecast Application - rel. 1.0 - (C) Gianni Zattoni')\n",
    "app.mainloop()\n"
   ]
  },
  {
   "cell_type": "code",
   "execution_count": null,
   "metadata": {
    "collapsed": true,
    "scrolled": true
   },
   "outputs": [],
   "source": [
    "imA = PIL.Image.new(mode='RGB',size=(100,120),color='green')\n",
    "imA"
   ]
  },
  {
   "cell_type": "code",
   "execution_count": null,
   "metadata": {
    "collapsed": true,
    "scrolled": true
   },
   "outputs": [],
   "source": [
    "imglogo = PIL.Image.open('Logo.jpg')\n",
    "imB = imglogo\n",
    "#imB = PIL.ImageTk.PhotoImage(imglogo)\n",
    "label = tk.Label(image=imB)\n",
    "label.grid()"
   ]
  },
  {
   "cell_type": "code",
   "execution_count": null,
   "metadata": {
    "collapsed": true,
    "scrolled": false
   },
   "outputs": [],
   "source": [
    "# Frame principale\n",
    "class Application(tk.Frame):\n",
    "    def __init__(self, master=None):\n",
    "        tk.Frame.__init__(self, master)\n",
    "        self.grid()\n",
    "        self.createWidgets()\n",
    "\n",
    "    def createWidgets(self):\n",
    "        \n",
    "        self.imglogo = PIL.Image.open('Logo.jpg')\n",
    "        self.imgA = self.imglogo.resize(size=(600,150))\n",
    "        self.imgB = PIL.ImageTk.PhotoImage(self.imgA)\n",
    "        self.canvas1 = tk.Canvas(self,width=600,height=150)\n",
    "        self.canvas1.create_image(300,75,image=self.imgB)\n",
    "        self.canvas1.grid()\n",
    "        \n",
    "        self.label = tk.Label(text = 'Last consuntive '+Lastcons())\n",
    "        self.label.grid()\n",
    "        \n",
    "        self.quitButton = tk.Button(self, text='Quit', command=self.quit)\n",
    "        self.quitButton.grid()\n",
    "        \n",
    "    def quit(self):\n",
    "        self.destroy()\n",
    "        return \n",
    "\n",
    "app = Application()\n",
    "app.master.title('New Customers Forecast Application - rel. 1.0 - (C) Gianni Zattoni')\n",
    "app.mainloop()\n"
   ]
  },
  {
   "cell_type": "code",
   "execution_count": null,
   "metadata": {
    "collapsed": true,
    "scrolled": true
   },
   "outputs": [],
   "source": [
    "print Lastcons()"
   ]
  },
  {
   "cell_type": "code",
   "execution_count": null,
   "metadata": {
    "collapsed": true,
    "scrolled": true
   },
   "outputs": [],
   "source": [
    "help('PIL.ImageTk')"
   ]
  },
  {
   "cell_type": "code",
   "execution_count": null,
   "metadata": {
    "collapsed": true
   },
   "outputs": [],
   "source": [
    "# Funzione che prepara un grafico e lo salva in una figura\n",
    "def SimplePlot(SeriePandas=None,LabelofSerie=None):\n",
    "    plt.plot(SeriePandas,label=LabelofSerie)\n",
    "    plt.legend()\n",
    "    plt.show()\n",
    "    return plt.figure()"
   ]
  },
  {
   "cell_type": "code",
   "execution_count": null,
   "metadata": {
    "collapsed": true
   },
   "outputs": [],
   "source": [
    "SimplePlot(df_totbdt['ST_BDT'],'Stock clienti BdT')"
   ]
  },
  {
   "cell_type": "code",
   "execution_count": null,
   "metadata": {
    "collapsed": true
   },
   "outputs": [],
   "source": [
    "plt.plot(df_totbdt['CP_BDT'],df_totbdt['FL_BDT'])\n",
    "plt.show()\n",
    "#plt.gcf().canvas.draw()\n",
    "fig = plt.figure()"
   ]
  },
  {
   "cell_type": "code",
   "execution_count": null,
   "metadata": {
    "collapsed": true
   },
   "outputs": [],
   "source": [
    "fig\n",
    "print fig"
   ]
  },
  {
   "cell_type": "code",
   "execution_count": null,
   "metadata": {
    "collapsed": true
   },
   "outputs": [],
   "source": [
    "import PIL"
   ]
  },
  {
   "cell_type": "code",
   "execution_count": null,
   "metadata": {
    "collapsed": true,
    "scrolled": true
   },
   "outputs": [],
   "source": [
    "# create the canvas, size in pixels\n",
    "canvas = tk.Canvas(width=500, height=200, bg='black')\n",
    "\n",
    "# pack the canvas into a frame/form\n",
    "canvas.grid() #expand=YES, fill=BOTH)\n",
    "\n",
    "# load the .gif image file\n",
    "logo = PIL.Image.open(\"Logo.jpg\")\n",
    "gif1 = PIL.ImageTk.PhotoImage(logo)\n",
    "\n",
    "# put gif image on canvas\n",
    "# pic's upper left corner (NW) on the canvas is at x=50 y=10\n",
    "canvas.create_image(50, 10, image=gif1, anchor=N)"
   ]
  },
  {
   "cell_type": "code",
   "execution_count": null,
   "metadata": {
    "collapsed": true,
    "scrolled": true
   },
   "outputs": [],
   "source": [
    "\n",
    "# prova di visualizzazione del grafico\n",
    "\n",
    "#sb.set(style=\"ticks\")\n",
    "#pos = rs.randint(-1, 2, (20, 5)).cumsum(axis=1)\n",
    "#pos -= pos[:, 0, np.newaxis]\n",
    "#step = np.tile(range(5), 20)\n",
    "#walk = np.repeat(range(20), 5)\n",
    "\n",
    "# Initialize a grid of plots with an Axes for each walk\n",
    "#grid = sb.FacetGrid(d_somma, col=\"walk\", hue=\"walk\", col_wrap=5, size=1.5)\n",
    "\n",
    "# Draw a horizontal line to show the starting point\n",
    "#grid.map(plt.axhline, y=0, ls=\":\", c=\".5\")\n",
    "\n",
    "# Draw a line plot to show the trajectory of each random walk\n",
    "#grid.map(plt.plot, \"step\", \"position\", marker=\"o\", ms=4)\n",
    "\n",
    "# Adjust the tick positions and labels\n",
    "#grid.set(xticks=np.arange(5), yticks=[-3, 3],\n",
    "#         xlim=(-.5, 4.5), ylim=(-3.5, 3.5))\n",
    "\n",
    "# Adjust the arrangement of the plots\n",
    "#grid.fig.tight_layout(w_pad=1)\n",
    "\n",
    "\n",
    "\n",
    "print type(fig)\n",
    "graphic = tk.Canvas(app)\n",
    "q = graphic.create_image(x=1, y=1, image=fig) #canvas.get_tk_widget().grid(row=1,column=24)\n",
    "canvas.draw()\n",
    "\n",
    "\n",
    "# create the canvas, size in pixels\n",
    "#canvas = Canvas(width=300, height=200, bg='black')\n",
    "\n",
    "# pack the canvas into a frame/form\n",
    "#canvas.pack(expand=YES, fill=BOTH)\n",
    "\n",
    "# load the .gif image file\n",
    "#gif1 = PhotoImage(file='small_globe.gif')\n",
    "\n",
    "# put gif image on canvas\n",
    "# pic's upper left corner (NW) on the canvas is at x=50 y=10\n",
    "#canvas.create_image(50, 10, image=gif1, anchor=N"
   ]
  },
  {
   "cell_type": "code",
   "execution_count": null,
   "metadata": {
    "collapsed": true
   },
   "outputs": [],
   "source": [
    "import "
   ]
  },
  {
   "cell_type": "code",
   "execution_count": null,
   "metadata": {
    "collapsed": true
   },
   "outputs": [],
   "source": []
  },
  {
   "cell_type": "code",
   "execution_count": null,
   "metadata": {
    "collapsed": true
   },
   "outputs": [],
   "source": []
  },
  {
   "cell_type": "code",
   "execution_count": null,
   "metadata": {
    "collapsed": true
   },
   "outputs": [],
   "source": []
  }
 ],
 "metadata": {
  "kernelspec": {
   "display_name": "Python 2",
   "language": "python",
   "name": "python2"
  },
  "language_info": {
   "codemirror_mode": {
    "name": "ipython",
    "version": 2
   },
   "file_extension": ".py",
   "mimetype": "text/x-python",
   "name": "python",
   "nbconvert_exporter": "python",
   "pygments_lexer": "ipython2",
   "version": "2.7.13"
  }
 },
 "nbformat": 4,
 "nbformat_minor": 2
}
