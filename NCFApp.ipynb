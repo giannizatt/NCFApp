{
 "cells": [
  {
   "cell_type": "code",
   "execution_count": 1,
   "metadata": {
    "collapsed": true
   },
   "outputs": [],
   "source": [
    "#\n",
    "# NCFApp\n",
    "# New Customers Forecast Application\n",
    "# Programma creato per il forecast dei clienti\n",
    "# \n",
    "\n",
    "import numpy             as np   # libreria per la gestione dei numeri\n",
    "import pandas            as pd   # libreria per la gestione del file csv\n",
    "import seaborn           as sb   # libreria per la costruzione di grafici\n",
    "import matplotlib.pyplot as plt  # libreria ausiliaria per la costruzione di grafici\n",
    "import Tkinter           as tk   # libreria per l'interfaccia grafica\n",
    "\n",
    "\n",
    "# Carica il dataframe dei dati dal file csv\n",
    "\n",
    "df_sstor = pd.read_csv('NCFAdati.csv',sep=';')\n"
   ]
  },
  {
   "cell_type": "code",
   "execution_count": 3,
   "metadata": {
    "collapsed": true
   },
   "outputs": [],
   "source": [
    "df_totbdt = pd.DataFrame()\n",
    "df_totbdt['MESE'] = df_sstor['MESE']\n",
    "df_totbdt['FL_BDT'] = df_sstor['FL_IMP']+df_sstor['FL_PER']+df_sstor['FL_AZR']+df_sstor['FL_RET']\n",
    "df_totbdt['CP_BDT'] = df_sstor['CP_IMP']+df_sstor['CP_PER']+df_sstor['CP_AZR']+df_sstor['CP_RET']\n",
    "df_totbdt['ST_BDT'] = df_sstor['ST_IMP']+df_sstor['ST_PER']+df_sstor['ST_AZR']+df_sstor['ST_RET']"
   ]
  },
  {
   "cell_type": "code",
   "execution_count": 4,
   "metadata": {
    "scrolled": true
   },
   "outputs": [
    {
     "data": {
      "text/html": [
       "<div>\n",
       "<style>\n",
       "    .dataframe thead tr:only-child th {\n",
       "        text-align: right;\n",
       "    }\n",
       "\n",
       "    .dataframe thead th {\n",
       "        text-align: left;\n",
       "    }\n",
       "\n",
       "    .dataframe tbody tr th {\n",
       "        vertical-align: top;\n",
       "    }\n",
       "</style>\n",
       "<table border=\"1\" class=\"dataframe\">\n",
       "  <thead>\n",
       "    <tr style=\"text-align: right;\">\n",
       "      <th></th>\n",
       "      <th>MESE</th>\n",
       "      <th>FL_BDT</th>\n",
       "      <th>CP_BDT</th>\n",
       "      <th>ST_BDT</th>\n",
       "    </tr>\n",
       "  </thead>\n",
       "  <tbody>\n",
       "    <tr>\n",
       "      <th>0</th>\n",
       "      <td>2011/01</td>\n",
       "      <td>55585.0</td>\n",
       "      <td>44247.0</td>\n",
       "      <td>10972151.0</td>\n",
       "    </tr>\n",
       "    <tr>\n",
       "      <th>1</th>\n",
       "      <td>2011/02</td>\n",
       "      <td>51884.0</td>\n",
       "      <td>53427.0</td>\n",
       "      <td>10970006.0</td>\n",
       "    </tr>\n",
       "    <tr>\n",
       "      <th>2</th>\n",
       "      <td>2011/03</td>\n",
       "      <td>60323.0</td>\n",
       "      <td>56578.0</td>\n",
       "      <td>10973294.0</td>\n",
       "    </tr>\n",
       "    <tr>\n",
       "      <th>3</th>\n",
       "      <td>2011/04</td>\n",
       "      <td>48007.0</td>\n",
       "      <td>43572.0</td>\n",
       "      <td>10977287.0</td>\n",
       "    </tr>\n",
       "    <tr>\n",
       "      <th>4</th>\n",
       "      <td>2011/05</td>\n",
       "      <td>56494.0</td>\n",
       "      <td>53478.0</td>\n",
       "      <td>10991212.0</td>\n",
       "    </tr>\n",
       "  </tbody>\n",
       "</table>\n",
       "</div>"
      ],
      "text/plain": [
       "      MESE   FL_BDT   CP_BDT      ST_BDT\n",
       "0  2011/01  55585.0  44247.0  10972151.0\n",
       "1  2011/02  51884.0  53427.0  10970006.0\n",
       "2  2011/03  60323.0  56578.0  10973294.0\n",
       "3  2011/04  48007.0  43572.0  10977287.0\n",
       "4  2011/05  56494.0  53478.0  10991212.0"
      ]
     },
     "execution_count": 4,
     "metadata": {},
     "output_type": "execute_result"
    }
   ],
   "source": [
    "df_totbdt.head()\n"
   ]
  },
  {
   "cell_type": "code",
   "execution_count": 6,
   "metadata": {},
   "outputs": [
    {
     "name": "stdout",
     "output_type": "stream",
     "text": [
      "2017/06\n"
     ]
    }
   ],
   "source": [
    "def Lastcons():\n",
    "    df_mesi = df_sstor['MESE']\n",
    "    return max(df_mesi)\n",
    "\n",
    "print Lastcons()"
   ]
  },
  {
   "cell_type": "code",
   "execution_count": 24,
   "metadata": {
    "collapsed": true
   },
   "outputs": [],
   "source": [
    "# Funzione che prepara un grafico e lo salva in una figura\n",
    "def SimplePlot(SeriePandas=None,LabelofSerie=None):\n",
    "    plt.plot(SeriePandas,label=LabelofSerie)\n",
    "    plt.legend()\n",
    "    plt.show()\n",
    "    return plt.figure()"
   ]
  },
  {
   "cell_type": "code",
   "execution_count": 25,
   "metadata": {},
   "outputs": [
    {
     "data": {
      "image/png": "[encoded data removed]",
      "text/plain": [
       "<matplotlib.figure.Figure at 0x7f3e6456fc50>"
      ]
     },
     "metadata": {},
     "output_type": "display_data"
    },
    {
     "data": {
      "text/plain": [
       "<matplotlib.figure.Figure at 0x7f3e62e67cd0>"
      ]
     },
     "execution_count": 25,
     "metadata": {},
     "output_type": "execute_result"
    }
   ],
   "source": [
    "SimplePlot(df_totbdt['ST_BDT'],'Stock clienti BdT')"
   ]
  },
  {
   "cell_type": "code",
   "execution_count": 8,
   "metadata": {},
   "outputs": [
    {
     "name": "stdout",
     "output_type": "stream",
     "text": [
      "Help on function plot in module matplotlib.pyplot:\n",
      "\n",
      "plot(*args, **kwargs)\n",
      "    Plot lines and/or markers to the\n",
      "    :class:`~matplotlib.axes.Axes`.  *args* is a variable length\n",
      "    argument, allowing for multiple *x*, *y* pairs with an\n",
      "    optional format string.  For example, each of the following is\n",
      "    legal::\n",
      "    \n",
      "        plot(x, y)        # plot x and y using default line style and color\n",
      "        plot(x, y, 'bo')  # plot x and y using blue circle markers\n",
      "        plot(y)           # plot y using x as index array 0..N-1\n",
      "        plot(y, 'r+')     # ditto, but with red plusses\n",
      "    \n",
      "    If *x* and/or *y* is 2-dimensional, then the corresponding columns\n",
      "    will be plotted.\n",
      "    \n",
      "    If used with labeled data, make sure that the color spec is not\n",
      "    included as an element in data, as otherwise the last case\n",
      "    ``plot(\"v\",\"r\", data={\"v\":..., \"r\":...)``\n",
      "    can be interpreted as the first case which would do ``plot(v, r)``\n",
      "    using the default line style and color.\n",
      "    \n",
      "    If not used with labeled data (i.e., without a data argument),\n",
      "    an arbitrary number of *x*, *y*, *fmt* groups can be specified, as in::\n",
      "    \n",
      "        a.plot(x1, y1, 'g^', x2, y2, 'g-')\n",
      "    \n",
      "    Return value is a list of lines that were added.\n",
      "    \n",
      "    By default, each line is assigned a different style specified by a\n",
      "    'style cycle'.  To change this behavior, you can edit the\n",
      "    axes.prop_cycle rcParam.\n",
      "    \n",
      "    The following format string characters are accepted to control\n",
      "    the line style or marker:\n",
      "    \n",
      "    ================    ===============================\n",
      "    character           description\n",
      "    ================    ===============================\n",
      "    ``'-'``             solid line style\n",
      "    ``'--'``            dashed line style\n",
      "    ``'-.'``            dash-dot line style\n",
      "    ``':'``             dotted line style\n",
      "    ``'.'``             point marker\n",
      "    ``','``             pixel marker\n",
      "    ``'o'``             circle marker\n",
      "    ``'v'``             triangle_down marker\n",
      "    ``'^'``             triangle_up marker\n",
      "    ``'<'``             triangle_left marker\n",
      "    ``'>'``             triangle_right marker\n",
      "    ``'1'``             tri_down marker\n",
      "    ``'2'``             tri_up marker\n",
      "    ``'3'``             tri_left marker\n",
      "    ``'4'``             tri_right marker\n",
      "    ``'s'``             square marker\n",
      "    ``'p'``             pentagon marker\n",
      "    ``'*'``             star marker\n",
      "    ``'h'``             hexagon1 marker\n",
      "    ``'H'``             hexagon2 marker\n",
      "    ``'+'``             plus marker\n",
      "    ``'x'``             x marker\n",
      "    ``'D'``             diamond marker\n",
      "    ``'d'``             thin_diamond marker\n",
      "    ``'|'``             vline marker\n",
      "    ``'_'``             hline marker\n",
      "    ================    ===============================\n",
      "    \n",
      "    \n",
      "    The following color abbreviations are supported:\n",
      "    \n",
      "    ==========  ========\n",
      "    character   color\n",
      "    ==========  ========\n",
      "    'b'         blue\n",
      "    'g'         green\n",
      "    'r'         red\n",
      "    'c'         cyan\n",
      "    'm'         magenta\n",
      "    'y'         yellow\n",
      "    'k'         black\n",
      "    'w'         white\n",
      "    ==========  ========\n",
      "    \n",
      "    In addition, you can specify colors in many weird and\n",
      "    wonderful ways, including full names (``'green'``), hex\n",
      "    strings (``'#008000'``), RGB or RGBA tuples (``(0,1,0,1)``) or\n",
      "    grayscale intensities as a string (``'0.8'``).  Of these, the\n",
      "    string specifications can be used in place of a ``fmt`` group,\n",
      "    but the tuple forms can be used only as ``kwargs``.\n",
      "    \n",
      "    Line styles and colors are combined in a single format string, as in\n",
      "    ``'bo'`` for blue circles.\n",
      "    \n",
      "    The *kwargs* can be used to set line properties (any property that has\n",
      "    a ``set_*`` method).  You can use this to set a line label (for auto\n",
      "    legends), linewidth, anitialising, marker face color, etc.  Here is an\n",
      "    example::\n",
      "    \n",
      "        plot([1,2,3], [1,2,3], 'go-', label='line 1', linewidth=2)\n",
      "        plot([1,2,3], [1,4,9], 'rs',  label='line 2')\n",
      "        axis([0, 4, 0, 10])\n",
      "        legend()\n",
      "    \n",
      "    If you make multiple lines with one plot command, the kwargs\n",
      "    apply to all those lines, e.g.::\n",
      "    \n",
      "        plot(x1, y1, x2, y2, antialiased=False)\n",
      "    \n",
      "    Neither line will be antialiased.\n",
      "    \n",
      "    You do not need to use format strings, which are just\n",
      "    abbreviations.  All of the line properties can be controlled\n",
      "    by keyword arguments.  For example, you can set the color,\n",
      "    marker, linestyle, and markercolor with::\n",
      "    \n",
      "        plot(x, y, color='green', linestyle='dashed', marker='o',\n",
      "             markerfacecolor='blue', markersize=12).\n",
      "    \n",
      "    See :class:`~matplotlib.lines.Line2D` for details.\n",
      "    \n",
      "    The kwargs are :class:`~matplotlib.lines.Line2D` properties:\n",
      "    \n",
      "      agg_filter: unknown\n",
      "      alpha: float (0.0 transparent through 1.0 opaque) \n",
      "      animated: [True | False] \n",
      "      antialiased or aa: [True | False] \n",
      "      axes: an :class:`~matplotlib.axes.Axes` instance \n",
      "      clip_box: a :class:`matplotlib.transforms.Bbox` instance \n",
      "      clip_on: [True | False] \n",
      "      clip_path: [ (:class:`~matplotlib.path.Path`, :class:`~matplotlib.transforms.Transform`) | :class:`~matplotlib.patches.Patch` | None ] \n",
      "      color or c: any matplotlib color \n",
      "      contains: a callable function \n",
      "      dash_capstyle: ['butt' | 'round' | 'projecting'] \n",
      "      dash_joinstyle: ['miter' | 'round' | 'bevel'] \n",
      "      dashes: sequence of on/off ink in points \n",
      "      drawstyle: ['default' | 'steps' | 'steps-pre' | 'steps-mid' | 'steps-post'] \n",
      "      figure: a :class:`matplotlib.figure.Figure` instance \n",
      "      fillstyle: ['full' | 'left' | 'right' | 'bottom' | 'top' | 'none'] \n",
      "      gid: an id string \n",
      "      label: string or anything printable with '%s' conversion. \n",
      "      linestyle or ls: ['solid' | 'dashed', 'dashdot', 'dotted' | (offset, on-off-dash-seq) | ``'-'`` | ``'--'`` | ``'-.'`` | ``':'`` | ``'None'`` | ``' '`` | ``''``]\n",
      "      linewidth or lw: float value in points \n",
      "      marker: :mod:`A valid marker style <matplotlib.markers>`\n",
      "      markeredgecolor or mec: any matplotlib color \n",
      "      markeredgewidth or mew: float value in points \n",
      "      markerfacecolor or mfc: any matplotlib color \n",
      "      markerfacecoloralt or mfcalt: any matplotlib color \n",
      "      markersize or ms: float \n",
      "      markevery: [None | int | length-2 tuple of int | slice | list/array of int | float | length-2 tuple of float]\n",
      "      path_effects: unknown\n",
      "      picker: float distance in points or callable pick function ``fn(artist, event)`` \n",
      "      pickradius: float distance in points \n",
      "      rasterized: [True | False | None] \n",
      "      sketch_params: unknown\n",
      "      snap: unknown\n",
      "      solid_capstyle: ['butt' | 'round' |  'projecting'] \n",
      "      solid_joinstyle: ['miter' | 'round' | 'bevel'] \n",
      "      transform: a :class:`matplotlib.transforms.Transform` instance \n",
      "      url: a url string \n",
      "      visible: [True | False] \n",
      "      xdata: 1D array \n",
      "      ydata: 1D array \n",
      "      zorder: any number \n",
      "    \n",
      "    kwargs *scalex* and *scaley*, if defined, are passed on to\n",
      "    :meth:`~matplotlib.axes.Axes.autoscale_view` to determine\n",
      "    whether the *x* and *y* axes are autoscaled; the default is\n",
      "    *True*.\n",
      "    \n",
      "    .. note::\n",
      "        In addition to the above described arguments, this function can take a\n",
      "        **data** keyword argument. If such a **data** argument is given, the\n",
      "        following arguments are replaced by **data[<arg>]**:\n",
      "    \n",
      "        * All arguments with the following names: 'x', 'y'.\n",
      "\n"
     ]
    }
   ],
   "source": [
    "help(plt.plot)"
   ]
  },
  {
   "cell_type": "code",
   "execution_count": 17,
   "metadata": {},
   "outputs": [
    {
     "data": {
      "image/png": "[encoded data removed]",
      "text/plain": [
       "<matplotlib.figure.Figure at 0x7f3e647191d0>"
      ]
     },
     "metadata": {},
     "output_type": "display_data"
    }
   ],
   "source": [
    "plt.plot(df_totbdt['CP_BDT'],df_totbdt['FL_BDT'])\n",
    "plt.show()\n",
    "#plt.gcf().canvas.draw()\n",
    "fig = plt.figure()"
   ]
  },
  {
   "cell_type": "code",
   "execution_count": 19,
   "metadata": {},
   "outputs": [
    {
     "name": "stdout",
     "output_type": "stream",
     "text": [
      "Figure(432x288)\n"
     ]
    }
   ],
   "source": [
    "fig\n",
    "print fig"
   ]
  },
  {
   "cell_type": "code",
   "execution_count": 20,
   "metadata": {
    "collapsed": true
   },
   "outputs": [],
   "source": [
    "# Frame principale\n",
    "\n",
    "class Application(tk.Frame):\n",
    "    def __init__(self, master=None):\n",
    "        tk.Frame.__init__(self, master)\n",
    "        self.grid()\n",
    "        self.createWidgets()\n",
    "\n",
    "    def createWidgets(self):\n",
    "        self.quitButton = tk.Button(self, text='Quit', command=self.quit)\n",
    "        self.quitButton.grid()\n",
    "        \n",
    "    def quit(self):\n",
    "        self.destroy()\n",
    "        return \n",
    "\n",
    "app = Application()\n",
    "app.master.title('New Customers Forecast Application - rel. 1.0 - (C) Gianni Zattoni')\n",
    "app.mainloop()"
   ]
  },
  {
   "cell_type": "code",
   "execution_count": 16,
   "metadata": {},
   "outputs": [
    {
     "ename": "ValueError",
     "evalue": "could not convert string to float: a",
     "output_type": "error",
     "traceback": [
      "\u001b[0;31m---------------------------------------------------------------------------\u001b[0m",
      "\u001b[0;31mValueError\u001b[0m                                Traceback (most recent call last)",
      "\u001b[0;32m<ipython-input-16-c9bd1992d38e>\u001b[0m in \u001b[0;36m<module>\u001b[0;34m()\u001b[0m\n\u001b[0;32m----> 1\u001b[0;31m \u001b[0mplt\u001b[0m\u001b[0;34m.\u001b[0m\u001b[0mplot\u001b[0m\u001b[0;34m(\u001b[0m\u001b[0;34m[\u001b[0m\u001b[0;34m'a'\u001b[0m\u001b[0;34m,\u001b[0m\u001b[0;34m'2'\u001b[0m\u001b[0;34m,\u001b[0m\u001b[0;34m'3'\u001b[0m\u001b[0;34m]\u001b[0m\u001b[0;34m,\u001b[0m \u001b[0;34m[\u001b[0m\u001b[0;36m1\u001b[0m\u001b[0;34m,\u001b[0m\u001b[0;36m2\u001b[0m\u001b[0;34m,\u001b[0m\u001b[0;36m3\u001b[0m\u001b[0;34m]\u001b[0m\u001b[0;34m,\u001b[0m \u001b[0;34m'go-'\u001b[0m\u001b[0;34m,\u001b[0m \u001b[0mlabel\u001b[0m\u001b[0;34m=\u001b[0m\u001b[0;34m'line 1'\u001b[0m\u001b[0;34m,\u001b[0m \u001b[0mlinewidth\u001b[0m\u001b[0;34m=\u001b[0m\u001b[0;36m2\u001b[0m\u001b[0;34m)\u001b[0m\u001b[0;34m\u001b[0m\u001b[0m\n\u001b[0m\u001b[1;32m      2\u001b[0m \u001b[0mplt\u001b[0m\u001b[0;34m.\u001b[0m\u001b[0mplot\u001b[0m\u001b[0;34m(\u001b[0m\u001b[0;34m[\u001b[0m\u001b[0;34m'a'\u001b[0m\u001b[0;34m,\u001b[0m\u001b[0;34m'2'\u001b[0m\u001b[0;34m,\u001b[0m\u001b[0;34m'3'\u001b[0m\u001b[0;34m]\u001b[0m\u001b[0;34m,\u001b[0m \u001b[0;34m[\u001b[0m\u001b[0;36m1\u001b[0m\u001b[0;34m,\u001b[0m\u001b[0;36m4\u001b[0m\u001b[0;34m,\u001b[0m\u001b[0;36m9\u001b[0m\u001b[0;34m]\u001b[0m\u001b[0;34m,\u001b[0m \u001b[0;34m'rs'\u001b[0m\u001b[0;34m,\u001b[0m  \u001b[0mlabel\u001b[0m\u001b[0;34m=\u001b[0m\u001b[0;34m'line 2'\u001b[0m\u001b[0;34m)\u001b[0m\u001b[0;34m\u001b[0m\u001b[0m\n\u001b[1;32m      3\u001b[0m \u001b[0mplt\u001b[0m\u001b[0;34m.\u001b[0m\u001b[0maxis\u001b[0m\u001b[0;34m(\u001b[0m\u001b[0;34m[\u001b[0m\u001b[0;36m0\u001b[0m\u001b[0;34m,\u001b[0m \u001b[0;36m4\u001b[0m\u001b[0;34m,\u001b[0m \u001b[0;36m0\u001b[0m\u001b[0;34m,\u001b[0m \u001b[0;36m10\u001b[0m\u001b[0;34m]\u001b[0m\u001b[0;34m)\u001b[0m\u001b[0;34m\u001b[0m\u001b[0m\n\u001b[1;32m      4\u001b[0m \u001b[0mplt\u001b[0m\u001b[0;34m.\u001b[0m\u001b[0mlegend\u001b[0m\u001b[0;34m(\u001b[0m\u001b[0;34m)\u001b[0m\u001b[0;34m\u001b[0m\u001b[0m\n\u001b[1;32m      5\u001b[0m \u001b[0mplt\u001b[0m\u001b[0;34m.\u001b[0m\u001b[0mshow\u001b[0m\u001b[0;34m(\u001b[0m\u001b[0;34m)\u001b[0m\u001b[0;34m\u001b[0m\u001b[0m\n",
      "\u001b[0;32m/home/kaidan/anaconda2/lib/python2.7/site-packages/matplotlib/pyplot.pyc\u001b[0m in \u001b[0;36mplot\u001b[0;34m(*args, **kwargs)\u001b[0m\n\u001b[1;32m   3315\u001b[0m                       mplDeprecation)\n\u001b[1;32m   3316\u001b[0m     \u001b[0;32mtry\u001b[0m\u001b[0;34m:\u001b[0m\u001b[0;34m\u001b[0m\u001b[0m\n\u001b[0;32m-> 3317\u001b[0;31m         \u001b[0mret\u001b[0m \u001b[0;34m=\u001b[0m \u001b[0max\u001b[0m\u001b[0;34m.\u001b[0m\u001b[0mplot\u001b[0m\u001b[0;34m(\u001b[0m\u001b[0;34m*\u001b[0m\u001b[0margs\u001b[0m\u001b[0;34m,\u001b[0m \u001b[0;34m**\u001b[0m\u001b[0mkwargs\u001b[0m\u001b[0;34m)\u001b[0m\u001b[0;34m\u001b[0m\u001b[0m\n\u001b[0m\u001b[1;32m   3318\u001b[0m     \u001b[0;32mfinally\u001b[0m\u001b[0;34m:\u001b[0m\u001b[0;34m\u001b[0m\u001b[0m\n\u001b[1;32m   3319\u001b[0m         \u001b[0max\u001b[0m\u001b[0;34m.\u001b[0m\u001b[0m_hold\u001b[0m \u001b[0;34m=\u001b[0m \u001b[0mwashold\u001b[0m\u001b[0;34m\u001b[0m\u001b[0m\n",
      "\u001b[0;32m/home/kaidan/anaconda2/lib/python2.7/site-packages/matplotlib/__init__.pyc\u001b[0m in \u001b[0;36minner\u001b[0;34m(ax, *args, **kwargs)\u001b[0m\n\u001b[1;32m   1896\u001b[0m                     warnings.warn(msg % (label_namer, func.__name__),\n\u001b[1;32m   1897\u001b[0m                                   RuntimeWarning, stacklevel=2)\n\u001b[0;32m-> 1898\u001b[0;31m             \u001b[0;32mreturn\u001b[0m \u001b[0mfunc\u001b[0m\u001b[0;34m(\u001b[0m\u001b[0max\u001b[0m\u001b[0;34m,\u001b[0m \u001b[0;34m*\u001b[0m\u001b[0margs\u001b[0m\u001b[0;34m,\u001b[0m \u001b[0;34m**\u001b[0m\u001b[0mkwargs\u001b[0m\u001b[0;34m)\u001b[0m\u001b[0;34m\u001b[0m\u001b[0m\n\u001b[0m\u001b[1;32m   1899\u001b[0m         \u001b[0mpre_doc\u001b[0m \u001b[0;34m=\u001b[0m \u001b[0minner\u001b[0m\u001b[0;34m.\u001b[0m\u001b[0m__doc__\u001b[0m\u001b[0;34m\u001b[0m\u001b[0m\n\u001b[1;32m   1900\u001b[0m         \u001b[0;32mif\u001b[0m \u001b[0mpre_doc\u001b[0m \u001b[0;32mis\u001b[0m \u001b[0mNone\u001b[0m\u001b[0;34m:\u001b[0m\u001b[0;34m\u001b[0m\u001b[0m\n",
      "\u001b[0;32m/home/kaidan/anaconda2/lib/python2.7/site-packages/matplotlib/axes/_axes.pyc\u001b[0m in \u001b[0;36mplot\u001b[0;34m(self, *args, **kwargs)\u001b[0m\n\u001b[1;32m   1405\u001b[0m \u001b[0;34m\u001b[0m\u001b[0m\n\u001b[1;32m   1406\u001b[0m         \u001b[0;32mfor\u001b[0m \u001b[0mline\u001b[0m \u001b[0;32min\u001b[0m \u001b[0mself\u001b[0m\u001b[0;34m.\u001b[0m\u001b[0m_get_lines\u001b[0m\u001b[0;34m(\u001b[0m\u001b[0;34m*\u001b[0m\u001b[0margs\u001b[0m\u001b[0;34m,\u001b[0m \u001b[0;34m**\u001b[0m\u001b[0mkwargs\u001b[0m\u001b[0;34m)\u001b[0m\u001b[0;34m:\u001b[0m\u001b[0;34m\u001b[0m\u001b[0m\n\u001b[0;32m-> 1407\u001b[0;31m             \u001b[0mself\u001b[0m\u001b[0;34m.\u001b[0m\u001b[0madd_line\u001b[0m\u001b[0;34m(\u001b[0m\u001b[0mline\u001b[0m\u001b[0;34m)\u001b[0m\u001b[0;34m\u001b[0m\u001b[0m\n\u001b[0m\u001b[1;32m   1408\u001b[0m             \u001b[0mlines\u001b[0m\u001b[0;34m.\u001b[0m\u001b[0mappend\u001b[0m\u001b[0;34m(\u001b[0m\u001b[0mline\u001b[0m\u001b[0;34m)\u001b[0m\u001b[0;34m\u001b[0m\u001b[0m\n\u001b[1;32m   1409\u001b[0m \u001b[0;34m\u001b[0m\u001b[0m\n",
      "\u001b[0;32m/home/kaidan/anaconda2/lib/python2.7/site-packages/matplotlib/axes/_base.pyc\u001b[0m in \u001b[0;36madd_line\u001b[0;34m(self, line)\u001b[0m\n\u001b[1;32m   1791\u001b[0m             \u001b[0mline\u001b[0m\u001b[0;34m.\u001b[0m\u001b[0mset_clip_path\u001b[0m\u001b[0;34m(\u001b[0m\u001b[0mself\u001b[0m\u001b[0;34m.\u001b[0m\u001b[0mpatch\u001b[0m\u001b[0;34m)\u001b[0m\u001b[0;34m\u001b[0m\u001b[0m\n\u001b[1;32m   1792\u001b[0m \u001b[0;34m\u001b[0m\u001b[0m\n\u001b[0;32m-> 1793\u001b[0;31m         \u001b[0mself\u001b[0m\u001b[0;34m.\u001b[0m\u001b[0m_update_line_limits\u001b[0m\u001b[0;34m(\u001b[0m\u001b[0mline\u001b[0m\u001b[0;34m)\u001b[0m\u001b[0;34m\u001b[0m\u001b[0m\n\u001b[0m\u001b[1;32m   1794\u001b[0m         \u001b[0;32mif\u001b[0m \u001b[0;32mnot\u001b[0m \u001b[0mline\u001b[0m\u001b[0;34m.\u001b[0m\u001b[0mget_label\u001b[0m\u001b[0;34m(\u001b[0m\u001b[0;34m)\u001b[0m\u001b[0;34m:\u001b[0m\u001b[0;34m\u001b[0m\u001b[0m\n\u001b[1;32m   1795\u001b[0m             \u001b[0mline\u001b[0m\u001b[0;34m.\u001b[0m\u001b[0mset_label\u001b[0m\u001b[0;34m(\u001b[0m\u001b[0;34m'_line%d'\u001b[0m \u001b[0;34m%\u001b[0m \u001b[0mlen\u001b[0m\u001b[0;34m(\u001b[0m\u001b[0mself\u001b[0m\u001b[0;34m.\u001b[0m\u001b[0mlines\u001b[0m\u001b[0;34m)\u001b[0m\u001b[0;34m)\u001b[0m\u001b[0;34m\u001b[0m\u001b[0m\n",
      "\u001b[0;32m/home/kaidan/anaconda2/lib/python2.7/site-packages/matplotlib/axes/_base.pyc\u001b[0m in \u001b[0;36m_update_line_limits\u001b[0;34m(self, line)\u001b[0m\n\u001b[1;32m   1813\u001b[0m         \u001b[0mFigures\u001b[0m \u001b[0mout\u001b[0m \u001b[0mthe\u001b[0m \u001b[0mdata\u001b[0m \u001b[0mlimit\u001b[0m \u001b[0mof\u001b[0m \u001b[0mthe\u001b[0m \u001b[0mgiven\u001b[0m \u001b[0mline\u001b[0m\u001b[0;34m,\u001b[0m \u001b[0mupdating\u001b[0m \u001b[0mself\u001b[0m\u001b[0;34m.\u001b[0m\u001b[0mdataLim\u001b[0m\u001b[0;34m.\u001b[0m\u001b[0;34m\u001b[0m\u001b[0m\n\u001b[1;32m   1814\u001b[0m         \"\"\"\n\u001b[0;32m-> 1815\u001b[0;31m         \u001b[0mpath\u001b[0m \u001b[0;34m=\u001b[0m \u001b[0mline\u001b[0m\u001b[0;34m.\u001b[0m\u001b[0mget_path\u001b[0m\u001b[0;34m(\u001b[0m\u001b[0;34m)\u001b[0m\u001b[0;34m\u001b[0m\u001b[0m\n\u001b[0m\u001b[1;32m   1816\u001b[0m         \u001b[0;32mif\u001b[0m \u001b[0mpath\u001b[0m\u001b[0;34m.\u001b[0m\u001b[0mvertices\u001b[0m\u001b[0;34m.\u001b[0m\u001b[0msize\u001b[0m \u001b[0;34m==\u001b[0m \u001b[0;36m0\u001b[0m\u001b[0;34m:\u001b[0m\u001b[0;34m\u001b[0m\u001b[0m\n\u001b[1;32m   1817\u001b[0m             \u001b[0;32mreturn\u001b[0m\u001b[0;34m\u001b[0m\u001b[0m\n",
      "\u001b[0;32m/home/kaidan/anaconda2/lib/python2.7/site-packages/matplotlib/lines.pyc\u001b[0m in \u001b[0;36mget_path\u001b[0;34m(self)\u001b[0m\n\u001b[1;32m    987\u001b[0m         \"\"\"\n\u001b[1;32m    988\u001b[0m         \u001b[0;32mif\u001b[0m \u001b[0mself\u001b[0m\u001b[0;34m.\u001b[0m\u001b[0m_invalidy\u001b[0m \u001b[0;32mor\u001b[0m \u001b[0mself\u001b[0m\u001b[0;34m.\u001b[0m\u001b[0m_invalidx\u001b[0m\u001b[0;34m:\u001b[0m\u001b[0;34m\u001b[0m\u001b[0m\n\u001b[0;32m--> 989\u001b[0;31m             \u001b[0mself\u001b[0m\u001b[0;34m.\u001b[0m\u001b[0mrecache\u001b[0m\u001b[0;34m(\u001b[0m\u001b[0;34m)\u001b[0m\u001b[0;34m\u001b[0m\u001b[0m\n\u001b[0m\u001b[1;32m    990\u001b[0m         \u001b[0;32mreturn\u001b[0m \u001b[0mself\u001b[0m\u001b[0;34m.\u001b[0m\u001b[0m_path\u001b[0m\u001b[0;34m\u001b[0m\u001b[0m\n\u001b[1;32m    991\u001b[0m \u001b[0;34m\u001b[0m\u001b[0m\n",
      "\u001b[0;32m/home/kaidan/anaconda2/lib/python2.7/site-packages/matplotlib/lines.pyc\u001b[0m in \u001b[0;36mrecache\u001b[0;34m(self, always)\u001b[0m\n\u001b[1;32m    674\u001b[0m                 \u001b[0mx\u001b[0m \u001b[0;34m=\u001b[0m \u001b[0mma\u001b[0m\u001b[0;34m.\u001b[0m\u001b[0masarray\u001b[0m\u001b[0;34m(\u001b[0m\u001b[0mxconv\u001b[0m\u001b[0;34m,\u001b[0m \u001b[0mnp\u001b[0m\u001b[0;34m.\u001b[0m\u001b[0mfloat_\u001b[0m\u001b[0;34m)\u001b[0m\u001b[0;34m.\u001b[0m\u001b[0mfilled\u001b[0m\u001b[0;34m(\u001b[0m\u001b[0mnp\u001b[0m\u001b[0;34m.\u001b[0m\u001b[0mnan\u001b[0m\u001b[0;34m)\u001b[0m\u001b[0;34m\u001b[0m\u001b[0m\n\u001b[1;32m    675\u001b[0m             \u001b[0;32melse\u001b[0m\u001b[0;34m:\u001b[0m\u001b[0;34m\u001b[0m\u001b[0m\n\u001b[0;32m--> 676\u001b[0;31m                 \u001b[0mx\u001b[0m \u001b[0;34m=\u001b[0m \u001b[0mnp\u001b[0m\u001b[0;34m.\u001b[0m\u001b[0masarray\u001b[0m\u001b[0;34m(\u001b[0m\u001b[0mxconv\u001b[0m\u001b[0;34m,\u001b[0m \u001b[0mnp\u001b[0m\u001b[0;34m.\u001b[0m\u001b[0mfloat_\u001b[0m\u001b[0;34m)\u001b[0m\u001b[0;34m\u001b[0m\u001b[0m\n\u001b[0m\u001b[1;32m    677\u001b[0m             \u001b[0mx\u001b[0m \u001b[0;34m=\u001b[0m \u001b[0mx\u001b[0m\u001b[0;34m.\u001b[0m\u001b[0mravel\u001b[0m\u001b[0;34m(\u001b[0m\u001b[0;34m)\u001b[0m\u001b[0;34m\u001b[0m\u001b[0m\n\u001b[1;32m    678\u001b[0m         \u001b[0;32melse\u001b[0m\u001b[0;34m:\u001b[0m\u001b[0;34m\u001b[0m\u001b[0m\n",
      "\u001b[0;32m/home/kaidan/anaconda2/lib/python2.7/site-packages/numpy/core/numeric.pyc\u001b[0m in \u001b[0;36masarray\u001b[0;34m(a, dtype, order)\u001b[0m\n\u001b[1;32m    529\u001b[0m \u001b[0;34m\u001b[0m\u001b[0m\n\u001b[1;32m    530\u001b[0m     \"\"\"\n\u001b[0;32m--> 531\u001b[0;31m     \u001b[0;32mreturn\u001b[0m \u001b[0marray\u001b[0m\u001b[0;34m(\u001b[0m\u001b[0ma\u001b[0m\u001b[0;34m,\u001b[0m \u001b[0mdtype\u001b[0m\u001b[0;34m,\u001b[0m \u001b[0mcopy\u001b[0m\u001b[0;34m=\u001b[0m\u001b[0mFalse\u001b[0m\u001b[0;34m,\u001b[0m \u001b[0morder\u001b[0m\u001b[0;34m=\u001b[0m\u001b[0morder\u001b[0m\u001b[0;34m)\u001b[0m\u001b[0;34m\u001b[0m\u001b[0m\n\u001b[0m\u001b[1;32m    532\u001b[0m \u001b[0;34m\u001b[0m\u001b[0m\n\u001b[1;32m    533\u001b[0m \u001b[0;34m\u001b[0m\u001b[0m\n",
      "\u001b[0;31mValueError\u001b[0m: could not convert string to float: a"
     ]
    }
   ],
   "source": [
    "plt.plot(['a','2','3'], [1,2,3], 'go-', label='line 1', linewidth=2)\n",
    "plt.plot(['a','2','3'], [1,4,9], 'rs',  label='line 2')\n",
    "plt.axis([0, 4, 0, 10])\n",
    "plt.legend()\n",
    "plt.show()"
   ]
  },
  {
   "cell_type": "code",
   "execution_count": null,
   "metadata": {
    "collapsed": true
   },
   "outputs": [],
   "source": []
  },
  {
   "cell_type": "code",
   "execution_count": 31,
   "metadata": {},
   "outputs": [
    {
     "data": {
      "text/plain": [
       "<matplotlib.figure.Figure at 0x7f04487a3f10>"
      ]
     },
     "metadata": {},
     "output_type": "display_data"
    },
    {
     "data": {
      "image/png": "[encoded data removed]",
      "text/plain": [
       "<matplotlib.figure.Figure at 0x7f0448895190>"
      ]
     },
     "metadata": {},
     "output_type": "display_data"
    },
    {
     "name": "stdout",
     "output_type": "stream",
     "text": [
      "<class 'matplotlib.figure.Figure'>\n"
     ]
    },
    {
     "ename": "IndexError",
     "evalue": "tuple index out of range",
     "output_type": "error",
     "traceback": [
      "\u001b[0;31m---------------------------------------------------------------------------\u001b[0m",
      "\u001b[0;31mIndexError\u001b[0m                                Traceback (most recent call last)",
      "\u001b[0;32m<ipython-input-31-27861d39f0a7>\u001b[0m in \u001b[0;36m<module>\u001b[0;34m()\u001b[0m\n\u001b[1;32m     72\u001b[0m \u001b[0;32mprint\u001b[0m \u001b[0mtype\u001b[0m\u001b[0;34m(\u001b[0m\u001b[0mfig\u001b[0m\u001b[0;34m)\u001b[0m\u001b[0;34m\u001b[0m\u001b[0m\n\u001b[1;32m     73\u001b[0m \u001b[0mgraphic\u001b[0m \u001b[0;34m=\u001b[0m \u001b[0mtk\u001b[0m\u001b[0;34m.\u001b[0m\u001b[0mCanvas\u001b[0m\u001b[0;34m(\u001b[0m\u001b[0mapp\u001b[0m\u001b[0;34m)\u001b[0m\u001b[0;34m\u001b[0m\u001b[0m\n\u001b[0;32m---> 74\u001b[0;31m \u001b[0mq\u001b[0m \u001b[0;34m=\u001b[0m \u001b[0mgraphic\u001b[0m\u001b[0;34m.\u001b[0m\u001b[0mcreate_image\u001b[0m\u001b[0;34m(\u001b[0m\u001b[0mx\u001b[0m\u001b[0;34m=\u001b[0m\u001b[0;36m1\u001b[0m\u001b[0;34m,\u001b[0m \u001b[0my\u001b[0m\u001b[0;34m=\u001b[0m\u001b[0;36m1\u001b[0m\u001b[0;34m,\u001b[0m \u001b[0mimage\u001b[0m\u001b[0;34m=\u001b[0m\u001b[0mfig\u001b[0m\u001b[0;34m)\u001b[0m \u001b[0;31m#canvas.get_tk_widget().grid(row=1,column=24)\u001b[0m\u001b[0;34m\u001b[0m\u001b[0m\n\u001b[0m\u001b[1;32m     75\u001b[0m \u001b[0mcanvas\u001b[0m\u001b[0;34m.\u001b[0m\u001b[0mdraw\u001b[0m\u001b[0;34m(\u001b[0m\u001b[0;34m)\u001b[0m\u001b[0;34m\u001b[0m\u001b[0m\n\u001b[1;32m     76\u001b[0m \u001b[0;34m\u001b[0m\u001b[0m\n",
      "\u001b[0;32m/home/kaidan/anaconda2/lib/python2.7/lib-tk/Tkinter.pyc\u001b[0m in \u001b[0;36mcreate_image\u001b[0;34m(self, *args, **kw)\u001b[0m\n\u001b[1;32m   2318\u001b[0m     \u001b[0;32mdef\u001b[0m \u001b[0mcreate_image\u001b[0m\u001b[0;34m(\u001b[0m\u001b[0mself\u001b[0m\u001b[0;34m,\u001b[0m \u001b[0;34m*\u001b[0m\u001b[0margs\u001b[0m\u001b[0;34m,\u001b[0m \u001b[0;34m**\u001b[0m\u001b[0mkw\u001b[0m\u001b[0;34m)\u001b[0m\u001b[0;34m:\u001b[0m\u001b[0;34m\u001b[0m\u001b[0m\n\u001b[1;32m   2319\u001b[0m         \u001b[0;34m\"\"\"Create image item with coordinates x1,y1.\"\"\"\u001b[0m\u001b[0;34m\u001b[0m\u001b[0m\n\u001b[0;32m-> 2320\u001b[0;31m         \u001b[0;32mreturn\u001b[0m \u001b[0mself\u001b[0m\u001b[0;34m.\u001b[0m\u001b[0m_create\u001b[0m\u001b[0;34m(\u001b[0m\u001b[0;34m'image'\u001b[0m\u001b[0;34m,\u001b[0m \u001b[0margs\u001b[0m\u001b[0;34m,\u001b[0m \u001b[0mkw\u001b[0m\u001b[0;34m)\u001b[0m\u001b[0;34m\u001b[0m\u001b[0m\n\u001b[0m\u001b[1;32m   2321\u001b[0m     \u001b[0;32mdef\u001b[0m \u001b[0mcreate_line\u001b[0m\u001b[0;34m(\u001b[0m\u001b[0mself\u001b[0m\u001b[0;34m,\u001b[0m \u001b[0;34m*\u001b[0m\u001b[0margs\u001b[0m\u001b[0;34m,\u001b[0m \u001b[0;34m**\u001b[0m\u001b[0mkw\u001b[0m\u001b[0;34m)\u001b[0m\u001b[0;34m:\u001b[0m\u001b[0;34m\u001b[0m\u001b[0m\n\u001b[1;32m   2322\u001b[0m         \u001b[0;34m\"\"\"Create line with coordinates x1,y1,...,xn,yn.\"\"\"\u001b[0m\u001b[0;34m\u001b[0m\u001b[0m\n",
      "\u001b[0;32m/home/kaidan/anaconda2/lib/python2.7/lib-tk/Tkinter.pyc\u001b[0m in \u001b[0;36m_create\u001b[0;34m(self, itemType, args, kw)\u001b[0m\n\u001b[1;32m   2302\u001b[0m         \u001b[0;34m\"\"\"Internal function.\"\"\"\u001b[0m\u001b[0;34m\u001b[0m\u001b[0m\n\u001b[1;32m   2303\u001b[0m         \u001b[0margs\u001b[0m \u001b[0;34m=\u001b[0m \u001b[0m_flatten\u001b[0m\u001b[0;34m(\u001b[0m\u001b[0margs\u001b[0m\u001b[0;34m)\u001b[0m\u001b[0;34m\u001b[0m\u001b[0m\n\u001b[0;32m-> 2304\u001b[0;31m         \u001b[0mcnf\u001b[0m \u001b[0;34m=\u001b[0m \u001b[0margs\u001b[0m\u001b[0;34m[\u001b[0m\u001b[0;34m-\u001b[0m\u001b[0;36m1\u001b[0m\u001b[0;34m]\u001b[0m\u001b[0;34m\u001b[0m\u001b[0m\n\u001b[0m\u001b[1;32m   2305\u001b[0m         \u001b[0;32mif\u001b[0m \u001b[0mtype\u001b[0m\u001b[0;34m(\u001b[0m\u001b[0mcnf\u001b[0m\u001b[0;34m)\u001b[0m \u001b[0;32min\u001b[0m \u001b[0;34m(\u001b[0m\u001b[0mDictionaryType\u001b[0m\u001b[0;34m,\u001b[0m \u001b[0mTupleType\u001b[0m\u001b[0;34m)\u001b[0m\u001b[0;34m:\u001b[0m\u001b[0;34m\u001b[0m\u001b[0m\n\u001b[1;32m   2306\u001b[0m             \u001b[0margs\u001b[0m \u001b[0;34m=\u001b[0m \u001b[0margs\u001b[0m\u001b[0;34m[\u001b[0m\u001b[0;34m:\u001b[0m\u001b[0;34m-\u001b[0m\u001b[0;36m1\u001b[0m\u001b[0;34m]\u001b[0m\u001b[0;34m\u001b[0m\u001b[0m\n",
      "\u001b[0;31mIndexError\u001b[0m: tuple index out of range"
     ]
    }
   ],
   "source": [
    "\n",
    "# prova di visualizzazione del grafico\n",
    "\n",
    "#sb.set(style=\"ticks\")\n",
    "#pos = rs.randint(-1, 2, (20, 5)).cumsum(axis=1)\n",
    "#pos -= pos[:, 0, np.newaxis]\n",
    "#step = np.tile(range(5), 20)\n",
    "#walk = np.repeat(range(20), 5)\n",
    "\n",
    "# Initialize a grid of plots with an Axes for each walk\n",
    "#grid = sb.FacetGrid(d_somma, col=\"walk\", hue=\"walk\", col_wrap=5, size=1.5)\n",
    "\n",
    "# Draw a horizontal line to show the starting point\n",
    "#grid.map(plt.axhline, y=0, ls=\":\", c=\".5\")\n",
    "\n",
    "# Draw a line plot to show the trajectory of each random walk\n",
    "#grid.map(plt.plot, \"step\", \"position\", marker=\"o\", ms=4)\n",
    "\n",
    "# Adjust the tick positions and labels\n",
    "#grid.set(xticks=np.arange(5), yticks=[-3, 3],\n",
    "#         xlim=(-.5, 4.5), ylim=(-3.5, 3.5))\n",
    "\n",
    "# Adjust the arrangement of the plots\n",
    "#grid.fig.tight_layout(w_pad=1)\n",
    "\n",
    "\n",
    "\n",
    "print type(fig)\n",
    "graphic = tk.Canvas(app)\n",
    "q = graphic.create_image(x=1, y=1, image=fig) #canvas.get_tk_widget().grid(row=1,column=24)\n",
    "canvas.draw()\n",
    "\n",
    "\n",
    "# create the canvas, size in pixels\n",
    "#canvas = Canvas(width=300, height=200, bg='black')\n",
    "\n",
    "# pack the canvas into a frame/form\n",
    "#canvas.pack(expand=YES, fill=BOTH)\n",
    "\n",
    "# load the .gif image file\n",
    "#gif1 = PhotoImage(file='small_globe.gif')\n",
    "\n",
    "# put gif image on canvas\n",
    "# pic's upper left corner (NW) on the canvas is at x=50 y=10\n",
    "#canvas.create_image(50, 10, image=gif1, anchor=N"
   ]
  }
 ],
 "metadata": {
  "kernelspec": {
   "display_name": "Python 2",
   "language": "python",
   "name": "python2"
  },
  "language_info": {
   "codemirror_mode": {
    "name": "ipython",
    "version": 2
   },
   "file_extension": ".py",
   "mimetype": "text/x-python",
   "name": "python",
   "nbconvert_exporter": "python",
   "pygments_lexer": "ipython2",
   "version": "2.7.13"
  }
 },
 "nbformat": 4,
 "nbformat_minor": 2
}
