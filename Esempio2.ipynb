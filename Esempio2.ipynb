{
 "cells": [
  {
   "cell_type": "code",
   "execution_count": 1,
   "metadata": {
    "collapsed": true
   },
   "outputs": [],
   "source": [
    "# -*- noplot -*-\n",
    "\n",
    "import matplotlib as mpl\n",
    "import numpy as np\n",
    "import sys\n",
    "if sys.version_info[0] < 3:\n",
    "    import Tkinter as tk\n",
    "else:\n",
    "    import tkinter as tk\n",
    "import matplotlib.backends.tkagg as tkagg\n",
    "from matplotlib.backends.backend_agg import FigureCanvasAgg\n",
    "\n",
    "\n",
    "def draw_figure(canvas, figure, loc=(0, 0)):\n",
    "    \"\"\" Draw a matplotlib figure onto a Tk canvas\n",
    "\n",
    "    loc: location of top-left corner of figure on canvas in pixels.\n",
    "\n",
    "    Inspired by matplotlib source: lib/matplotlib/backends/backend_tkagg.py\n",
    "    \"\"\"\n",
    "    figure_canvas_agg = FigureCanvasAgg(figure)\n",
    "    figure_canvas_agg.draw()\n",
    "    figure_x, figure_y, figure_w, figure_h = figure.bbox.bounds\n",
    "    figure_w, figure_h = int(figure_w), int(figure_h)\n",
    "    photo = tk.PhotoImage(master=canvas, width=figure_w, height=figure_h)\n",
    "\n",
    "    # Position: convert from top-left anchor to center anchor\n",
    "    canvas.create_image(loc[0] + figure_w/2, loc[1] + figure_h/2, image=photo)\n",
    "\n",
    "    # Unfortunately, there's no accessor for the pointer to the native renderer\n",
    "    tkagg.blit(photo, figure_canvas_agg.get_renderer()._renderer, colormode=2)\n",
    "\n",
    "    # Return a handle which contains a reference to the photo object\n",
    "    # which must be kept live or else the picture disappears\n",
    "    return photo\n",
    "\n",
    "# Create a canvas\n",
    "w, h = 300, 200\n",
    "window = tk.Tk()\n",
    "window.title(\"A figure in a canvas\")\n",
    "canvas = tk.Canvas(window, width=w, height=h)\n",
    "canvas.pack()\n",
    "\n",
    "# Generate some example data\n",
    "X = np.linspace(0, 2.0*3.14, 50)\n",
    "Y = np.sin(X)\n",
    "\n",
    "# Create the figure we desire to add to an existing canvas\n",
    "fig = mpl.figure.Figure(figsize=(2, 1))\n",
    "ax = fig.add_axes([0, 0, 1, 1])\n",
    "ax.plot(X, Y)\n",
    "\n",
    "# Keep this handle alive, or else figure will disappear\n",
    "fig_x, fig_y = 100, 100\n",
    "fig_photo = draw_figure(canvas, fig, loc=(fig_x, fig_y))\n",
    "fig_w, fig_h = fig_photo.width(), fig_photo.height()\n",
    "\n",
    "# Add more elements to the canvas, potentially on top of the figure\n",
    "canvas.create_line(200, 50, fig_x + fig_w / 2, fig_y + fig_h / 2)\n",
    "canvas.create_text(200, 50, text=\"Zero-crossing\", anchor=\"s\")\n",
    "\n",
    "# Let Tk take over\n",
    "tk.mainloop()"
   ]
  }
 ],
 "metadata": {
  "kernelspec": {
   "display_name": "Python 2",
   "language": "python",
   "name": "python2"
  },
  "language_info": {
   "codemirror_mode": {
    "name": "ipython",
    "version": 2
   },
   "file_extension": ".py",
   "mimetype": "text/x-python",
   "name": "python",
   "nbconvert_exporter": "python",
   "pygments_lexer": "ipython2",
   "version": "2.7.13"
  }
 },
 "nbformat": 4,
 "nbformat_minor": 2
}
